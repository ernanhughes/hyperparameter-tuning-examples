{
  "cells": [
    {
      "cell_type": "markdown",
      "metadata": {},
      "source": [
        "\n",
        "\n",
        "# Multi-objective Optimization with Optuna\n",
        "\n",
        "This tutorial showcases Optuna's multi-objective optimization feature by\n",
        "optimizing the validation accuracy of Fashion MNIST dataset and the FLOPS of the model implemented in PyTorch.\n",
        "\n",
        "We use [fvcore](https://github.com/facebookresearch/fvcore) to measure FLOPS.\n"
      ]
    },
    {
      "cell_type": "code",
      "execution_count": 1,
      "metadata": {
        "collapsed": false
      },
      "outputs": [],
      "source": [
        "import torch\n",
        "import torch.nn as nn\n",
        "import torch.nn.functional as F\n",
        "import torchvision\n",
        "from fvcore.nn import FlopCountAnalysis\n",
        "\n",
        "import optuna\n",
        "\n",
        "\n",
        "DEVICE = torch.device(\"cuda\") if torch.cuda.is_available() else torch.device(\"cpu\")\n",
        "DIR = \"..\"\n",
        "BATCHSIZE = 128\n",
        "N_TRAIN_EXAMPLES = BATCHSIZE * 30\n",
        "N_VALID_EXAMPLES = BATCHSIZE * 10\n",
        "\n",
        "\n",
        "def define_model(trial):\n",
        "    n_layers = trial.suggest_int(\"n_layers\", 1, 3)\n",
        "    layers = []\n",
        "\n",
        "    in_features = 28 * 28\n",
        "    for i in range(n_layers):\n",
        "        out_features = trial.suggest_int(\"n_units_l{}\".format(i), 4, 128)\n",
        "        layers.append(nn.Linear(in_features, out_features))\n",
        "        layers.append(nn.ReLU())\n",
        "        p = trial.suggest_float(\"dropout_{}\".format(i), 0.2, 0.5)\n",
        "        layers.append(nn.Dropout(p))\n",
        "\n",
        "        in_features = out_features\n",
        "\n",
        "    layers.append(nn.Linear(in_features, 10))\n",
        "    layers.append(nn.LogSoftmax(dim=1))\n",
        "\n",
        "    return nn.Sequential(*layers)\n",
        "\n",
        "\n",
        "# Defines training and evaluation.\n",
        "def train_model(model, optimizer, train_loader):\n",
        "    model.train()\n",
        "    for batch_idx, (data, target) in enumerate(train_loader):\n",
        "        data, target = data.view(-1, 28 * 28).to(DEVICE), target.to(DEVICE)\n",
        "        optimizer.zero_grad()\n",
        "        F.nll_loss(model(data), target).backward()\n",
        "        optimizer.step()\n",
        "\n",
        "\n",
        "def eval_model(model, valid_loader):\n",
        "    model.eval()\n",
        "    correct = 0\n",
        "    with torch.no_grad():\n",
        "        for batch_idx, (data, target) in enumerate(valid_loader):\n",
        "            data, target = data.view(-1, 28 * 28).to(DEVICE), target.to(DEVICE)\n",
        "            pred = model(data).argmax(dim=1, keepdim=True)\n",
        "            correct += pred.eq(target.view_as(pred)).sum().item()\n",
        "\n",
        "    accuracy = correct / N_VALID_EXAMPLES\n",
        "\n",
        "    flops = FlopCountAnalysis(model, inputs=(torch.randn(1, 28 * 28).to(DEVICE),)).total()\n",
        "    return flops, accuracy"
      ]
    },
    {
      "cell_type": "markdown",
      "metadata": {},
      "source": [
        "Define multi-objective objective function.\n",
        "Objectives are FLOPS and accuracy.\n",
        "\n"
      ]
    },
    {
      "cell_type": "code",
      "execution_count": 2,
      "metadata": {
        "collapsed": false
      },
      "outputs": [],
      "source": [
        "def objective(trial):\n",
        "    train_dataset = torchvision.datasets.FashionMNIST(\n",
        "        DIR, train=True, download=True, transform=torchvision.transforms.ToTensor()\n",
        "    )\n",
        "    train_loader = torch.utils.data.DataLoader(\n",
        "        torch.utils.data.Subset(train_dataset, list(range(N_TRAIN_EXAMPLES))),\n",
        "        batch_size=BATCHSIZE,\n",
        "        shuffle=True,\n",
        "    )\n",
        "\n",
        "    val_dataset = torchvision.datasets.FashionMNIST(\n",
        "        DIR, train=False, transform=torchvision.transforms.ToTensor()\n",
        "    )\n",
        "    val_loader = torch.utils.data.DataLoader(\n",
        "        torch.utils.data.Subset(val_dataset, list(range(N_VALID_EXAMPLES))),\n",
        "        batch_size=BATCHSIZE,\n",
        "        shuffle=True,\n",
        "    )\n",
        "    model = define_model(trial).to(DEVICE)\n",
        "\n",
        "    optimizer = torch.optim.Adam(\n",
        "        model.parameters(), trial.suggest_float(\"lr\", 1e-5, 1e-1, log=True)\n",
        "    )\n",
        "\n",
        "    for epoch in range(10):\n",
        "        train_model(model, optimizer, train_loader)\n",
        "    flops, accuracy = eval_model(model, val_loader)\n",
        "    return flops, accuracy"
      ]
    },
    {
      "cell_type": "markdown",
      "metadata": {},
      "source": [
        "## Run multi-objective optimization\n",
        "\n",
        "If your optimization problem is multi-objective,\n",
        "Optuna assumes that you will specify the optimization direction for each objective.\n",
        "Specifically, in this example, we want to minimize the FLOPS (we want a faster model)\n",
        "and maximize the accuracy. So we set ``directions`` to ``[\"minimize\", \"maximize\"]``.\n",
        "\n"
      ]
    },
    {
      "cell_type": "code",
      "execution_count": 3,
      "metadata": {
        "collapsed": false
      },
      "outputs": [
        {
          "name": "stderr",
          "output_type": "stream",
          "text": [
            "[I 2024-07-30 18:25:11,181] A new study created in memory with name: no-name-11578280-d7a3-4fcc-9b72-6ad9aa399b65\n",
            "Unsupported operator aten::log_softmax encountered 1 time(s)\n",
            "[I 2024-07-30 18:25:14,689] Trial 0 finished with values: [110802.0, 0.83203125] and parameters: {'n_layers': 2, 'n_units_l0': 127, 'dropout_0': 0.24810329735905784, 'n_units_l1': 82, 'dropout_1': 0.4255453051971854, 'lr': 0.0023928719405728817}. \n",
            "Unsupported operator aten::log_softmax encountered 1 time(s)\n",
            "[I 2024-07-30 18:25:16,501] Trial 1 finished with values: [95280.0, 0.79453125] and parameters: {'n_layers': 1, 'n_units_l0': 120, 'dropout_0': 0.4525915820152879, 'lr': 0.00039492776191092763}. \n",
            "Unsupported operator aten::log_softmax encountered 1 time(s)\n",
            "[I 2024-07-30 18:25:18,357] Trial 2 finished with values: [19056.0, 0.65625] and parameters: {'n_layers': 1, 'n_units_l0': 24, 'dropout_0': 0.4032279804993757, 'lr': 0.00016252619524423327}. \n",
            "Unsupported operator aten::log_softmax encountered 1 time(s)\n",
            "[I 2024-07-30 18:25:20,480] Trial 3 finished with values: [44257.0, 0.8] and parameters: {'n_layers': 2, 'n_units_l0': 49, 'dropout_0': 0.3692329199639872, 'n_units_l1': 99, 'dropout_1': 0.48723509794621783, 'lr': 0.0017057043523064145}. \n",
            "Unsupported operator aten::log_softmax encountered 1 time(s)\n",
            "[I 2024-07-30 18:25:22,473] Trial 4 finished with values: [44708.0, 0.72578125] and parameters: {'n_layers': 2, 'n_units_l0': 48, 'dropout_0': 0.3985363035405608, 'n_units_l1': 122, 'dropout_1': 0.27154622249693616, 'lr': 0.0003343527087208385}. \n",
            "Unsupported operator aten::log_softmax encountered 1 time(s)\n",
            "[I 2024-07-30 18:25:24,486] Trial 5 finished with values: [32554.0, 0.7375] and parameters: {'n_layers': 1, 'n_units_l0': 41, 'dropout_0': 0.4955384785694404, 'lr': 0.026881147943270508}. \n",
            "Unsupported operator aten::log_softmax encountered 1 time(s)\n",
            "[I 2024-07-30 18:25:26,501] Trial 6 finished with values: [48434.0, 0.63828125] and parameters: {'n_layers': 1, 'n_units_l0': 61, 'dropout_0': 0.28866395910823184, 'lr': 3.50758924558159e-05}. \n",
            "Unsupported operator aten::log_softmax encountered 1 time(s)\n",
            "[I 2024-07-30 18:25:28,585] Trial 7 finished with values: [11360.0, 0.484375] and parameters: {'n_layers': 2, 'n_units_l0': 14, 'dropout_0': 0.32223761804275763, 'n_units_l1': 16, 'dropout_1': 0.3106780569500918, 'lr': 0.04313835247486508}. \n",
            "Unsupported operator aten::log_softmax encountered 1 time(s)\n",
            "[I 2024-07-30 18:25:30,688] Trial 8 finished with values: [75756.0, 0.7859375] and parameters: {'n_layers': 3, 'n_units_l0': 74, 'dropout_0': 0.30556030063375245, 'n_units_l1': 100, 'dropout_1': 0.2941326986971019, 'n_units_l2': 94, 'dropout_2': 0.2816500809714572, 'lr': 0.01418889743031779}. \n",
            "Unsupported operator aten::log_softmax encountered 1 time(s)\n",
            "[I 2024-07-30 18:25:32,809] Trial 9 finished with values: [67275.0, 0.3359375] and parameters: {'n_layers': 2, 'n_units_l0': 73, 'dropout_0': 0.3412481467534194, 'n_units_l1': 121, 'dropout_1': 0.3903242708706543, 'lr': 0.051345039420014844}. \n",
            "Unsupported operator aten::log_softmax encountered 1 time(s)\n",
            "[I 2024-07-30 18:25:34,806] Trial 10 finished with values: [83370.0, 0.41015625] and parameters: {'n_layers': 1, 'n_units_l0': 105, 'dropout_0': 0.45082169588993726, 'lr': 0.09156327252998162}. \n",
            "Unsupported operator aten::log_softmax encountered 1 time(s)\n",
            "[I 2024-07-30 18:25:36,725] Trial 11 finished with values: [73842.0, 0.51015625] and parameters: {'n_layers': 1, 'n_units_l0': 93, 'dropout_0': 0.25643869606998626, 'lr': 1.3032713015306746e-05}. \n",
            "Unsupported operator aten::log_softmax encountered 1 time(s)\n",
            "[I 2024-07-30 18:25:38,690] Trial 12 finished with values: [12440.0, 0.37265625] and parameters: {'n_layers': 2, 'n_units_l0': 14, 'dropout_0': 0.39610311844276336, 'n_units_l1': 61, 'dropout_1': 0.26624311910175, 'lr': 3.503594320342987e-05}. \n",
            "Unsupported operator aten::log_softmax encountered 1 time(s)\n",
            "[I 2024-07-30 18:25:40,597] Trial 13 finished with values: [62726.0, 0.6984375] and parameters: {'n_layers': 1, 'n_units_l0': 79, 'dropout_0': 0.42659733771667063, 'lr': 0.00014962845310974803}. \n",
            "Unsupported operator aten::log_softmax encountered 1 time(s)\n",
            "[I 2024-07-30 18:25:42,470] Trial 14 finished with values: [29470.0, 0.7390625] and parameters: {'n_layers': 2, 'n_units_l0': 31, 'dropout_0': 0.3877188641278788, 'n_units_l1': 126, 'dropout_1': 0.44851846149112945, 'lr': 0.0006187879333115122}. \n",
            "Unsupported operator aten::log_softmax encountered 1 time(s)\n",
            "[I 2024-07-30 18:25:44,325] Trial 15 finished with values: [42082.0, 0.8234375] and parameters: {'n_layers': 1, 'n_units_l0': 53, 'dropout_0': 0.4652159774647019, 'lr': 0.0030450270530323646}. \n",
            "Unsupported operator aten::log_softmax encountered 1 time(s)\n",
            "[I 2024-07-30 18:25:46,381] Trial 16 finished with values: [53198.0, 0.74609375] and parameters: {'n_layers': 1, 'n_units_l0': 67, 'dropout_0': 0.46014121415206277, 'lr': 0.00033291923386672345}. \n",
            "Unsupported operator aten::log_softmax encountered 1 time(s)\n",
            "[I 2024-07-30 18:25:48,428] Trial 17 finished with values: [74654.0, 0.1640625] and parameters: {'n_layers': 3, 'n_units_l0': 83, 'dropout_0': 0.40633837470597767, 'n_units_l1': 66, 'dropout_1': 0.44792621953116063, 'n_units_l2': 54, 'dropout_2': 0.39061299145142503, 'lr': 0.09328901117762244}. \n",
            "Unsupported operator aten::log_softmax encountered 1 time(s)\n",
            "[I 2024-07-30 18:25:50,410] Trial 18 finished with values: [101632.0, 0.82109375] and parameters: {'n_layers': 1, 'n_units_l0': 128, 'dropout_0': 0.43951055864892735, 'lr': 0.009244159094178741}. \n",
            "Unsupported operator aten::log_softmax encountered 1 time(s)\n",
            "[I 2024-07-30 18:25:52,491] Trial 19 finished with values: [27646.0, 0.09296875] and parameters: {'n_layers': 3, 'n_units_l0': 25, 'dropout_0': 0.3389272344332027, 'n_units_l1': 58, 'dropout_1': 0.26351784753682556, 'n_units_l2': 97, 'dropout_2': 0.32112296507513166, 'lr': 1.7734617193857714e-05}. \n",
            "Unsupported operator aten::log_softmax encountered 1 time(s)\n",
            "[I 2024-07-30 18:25:54,333] Trial 20 finished with values: [6656.0, 0.2984375] and parameters: {'n_layers': 2, 'n_units_l0': 6, 'dropout_0': 0.46712816544448255, 'n_units_l1': 122, 'dropout_1': 0.32925017440853604, 'lr': 3.210818255417871e-05}. \n",
            "Unsupported operator aten::log_softmax encountered 1 time(s)\n",
            "[I 2024-07-30 18:25:56,348] Trial 21 finished with values: [49070.0, 0.7234375] and parameters: {'n_layers': 2, 'n_units_l0': 60, 'dropout_0': 0.48920721577306603, 'n_units_l1': 29, 'dropout_1': 0.20807442865122266, 'lr': 0.0005072169568139172}. \n",
            "Unsupported operator aten::log_softmax encountered 1 time(s)\n",
            "[I 2024-07-30 18:25:58,444] Trial 22 finished with values: [51508.0, 0.71171875] and parameters: {'n_layers': 3, 'n_units_l0': 48, 'dropout_0': 0.3332339395656675, 'n_units_l1': 87, 'dropout_1': 0.3056981783209579, 'n_units_l2': 100, 'dropout_2': 0.42290038142570646, 'lr': 0.00035698258996532105}. \n",
            "Unsupported operator aten::log_softmax encountered 1 time(s)\n",
            "[I 2024-07-30 18:26:00,377] Trial 23 finished with values: [37358.0, 0.80859375] and parameters: {'n_layers': 2, 'n_units_l0': 44, 'dropout_0': 0.32893226741224013, 'n_units_l1': 53, 'dropout_1': 0.22701292825149486, 'lr': 0.002689941063623678}. \n",
            "Unsupported operator aten::log_softmax encountered 1 time(s)\n",
            "[I 2024-07-30 18:26:02,352] Trial 24 finished with values: [68432.0, 0.59609375] and parameters: {'n_layers': 2, 'n_units_l0': 74, 'dropout_0': 0.22015697810220386, 'n_units_l1': 124, 'dropout_1': 0.25744226621032906, 'lr': 3.644291717214559e-05}. \n",
            "Unsupported operator aten::log_softmax encountered 1 time(s)\n",
            "[I 2024-07-30 18:26:04,450] Trial 25 finished with values: [9910.0, 0.20625] and parameters: {'n_layers': 3, 'n_units_l0': 9, 'dropout_0': 0.4333405750760664, 'n_units_l1': 118, 'dropout_1': 0.4517157916400996, 'n_units_l2': 14, 'dropout_2': 0.24694169274417013, 'lr': 9.559348460556334e-05}. \n",
            "Unsupported operator aten::log_softmax encountered 1 time(s)\n",
            "[I 2024-07-30 18:26:06,314] Trial 26 finished with values: [5558.0, 0.73046875] and parameters: {'n_layers': 1, 'n_units_l0': 7, 'dropout_0': 0.23028178095992374, 'lr': 0.004090573644401883}. \n",
            "Unsupported operator aten::log_softmax encountered 1 time(s)\n",
            "[I 2024-07-30 18:26:08,359] Trial 27 finished with values: [96074.0, 0.834375] and parameters: {'n_layers': 1, 'n_units_l0': 121, 'dropout_0': 0.20857098898276283, 'lr': 0.00411923199020278}. \n",
            "Unsupported operator aten::log_softmax encountered 1 time(s)\n",
            "[I 2024-07-30 18:26:10,250] Trial 28 finished with values: [101632.0, 0.79765625] and parameters: {'n_layers': 1, 'n_units_l0': 128, 'dropout_0': 0.31290700579133723, 'lr': 0.0192871604952055}. \n",
            "Unsupported operator aten::log_softmax encountered 1 time(s)\n",
            "[I 2024-07-30 18:26:12,328] Trial 29 finished with values: [92794.0, 0.48359375] and parameters: {'n_layers': 3, 'n_units_l0': 105, 'dropout_0': 0.4178328925800795, 'n_units_l1': 76, 'dropout_1': 0.22553788453857576, 'n_units_l2': 29, 'dropout_2': 0.44826108911796286, 'lr': 6.589362647379289e-05}. \n"
          ]
        },
        {
          "name": "stdout",
          "output_type": "stream",
          "text": [
            "Number of finished trials:  30\n"
          ]
        }
      ],
      "source": [
        "study = optuna.create_study(directions=[\"minimize\", \"maximize\"])\n",
        "study.optimize(objective, n_trials=30, timeout=300)\n",
        "\n",
        "print(\"Number of finished trials: \", len(study.trials))"
      ]
    },
    {
      "cell_type": "markdown",
      "metadata": {},
      "source": [
        "Check trials on Pareto front visually.\n",
        "\n"
      ]
    },
    {
      "cell_type": "code",
      "execution_count": 4,
      "metadata": {
        "collapsed": false
      },
      "outputs": [
        {
          "data": {
            "application/vnd.plotly.v1+json": {
              "config": {
                "plotlyServerURL": "https://plot.ly"
              },
              "data": [
                {
                  "hovertemplate": "%{text}<extra>Trial</extra>",
                  "marker": {
                    "color": [
                      0,
                      1,
                      2,
                      3,
                      4,
                      5,
                      6,
                      7,
                      8,
                      9,
                      10,
                      11,
                      12,
                      13,
                      16,
                      17,
                      18,
                      19,
                      20,
                      21,
                      22,
                      24,
                      25,
                      28,
                      29
                    ],
                    "colorbar": {
                      "title": {
                        "text": "Trial"
                      }
                    },
                    "colorscale": [
                      [
                        0,
                        "rgb(247,251,255)"
                      ],
                      [
                        0.125,
                        "rgb(222,235,247)"
                      ],
                      [
                        0.25,
                        "rgb(198,219,239)"
                      ],
                      [
                        0.375,
                        "rgb(158,202,225)"
                      ],
                      [
                        0.5,
                        "rgb(107,174,214)"
                      ],
                      [
                        0.625,
                        "rgb(66,146,198)"
                      ],
                      [
                        0.75,
                        "rgb(33,113,181)"
                      ],
                      [
                        0.875,
                        "rgb(8,81,156)"
                      ],
                      [
                        1,
                        "rgb(8,48,107)"
                      ]
                    ],
                    "line": {
                      "color": "Grey",
                      "width": 0.5
                    }
                  },
                  "mode": "markers",
                  "showlegend": false,
                  "text": [
                    "{<br>  \"number\": 0,<br>  \"values\": [<br>    110802.0,<br>    0.83203125<br>  ],<br>  \"params\": {<br>    \"n_layers\": 2,<br>    \"n_units_l0\": 127,<br>    \"dropout_0\": 0.24810329735905784,<br>    \"n_units_l1\": 82,<br>    \"dropout_1\": 0.4255453051971854,<br>    \"lr\": 0.0023928719405728817<br>  }<br>}",
                    "{<br>  \"number\": 1,<br>  \"values\": [<br>    95280.0,<br>    0.79453125<br>  ],<br>  \"params\": {<br>    \"n_layers\": 1,<br>    \"n_units_l0\": 120,<br>    \"dropout_0\": 0.4525915820152879,<br>    \"lr\": 0.00039492776191092763<br>  }<br>}",
                    "{<br>  \"number\": 2,<br>  \"values\": [<br>    19056.0,<br>    0.65625<br>  ],<br>  \"params\": {<br>    \"n_layers\": 1,<br>    \"n_units_l0\": 24,<br>    \"dropout_0\": 0.4032279804993757,<br>    \"lr\": 0.00016252619524423327<br>  }<br>}",
                    "{<br>  \"number\": 3,<br>  \"values\": [<br>    44257.0,<br>    0.8<br>  ],<br>  \"params\": {<br>    \"n_layers\": 2,<br>    \"n_units_l0\": 49,<br>    \"dropout_0\": 0.3692329199639872,<br>    \"n_units_l1\": 99,<br>    \"dropout_1\": 0.48723509794621783,<br>    \"lr\": 0.0017057043523064145<br>  }<br>}",
                    "{<br>  \"number\": 4,<br>  \"values\": [<br>    44708.0,<br>    0.72578125<br>  ],<br>  \"params\": {<br>    \"n_layers\": 2,<br>    \"n_units_l0\": 48,<br>    \"dropout_0\": 0.3985363035405608,<br>    \"n_units_l1\": 122,<br>    \"dropout_1\": 0.27154622249693616,<br>    \"lr\": 0.0003343527087208385<br>  }<br>}",
                    "{<br>  \"number\": 5,<br>  \"values\": [<br>    32554.0,<br>    0.7375<br>  ],<br>  \"params\": {<br>    \"n_layers\": 1,<br>    \"n_units_l0\": 41,<br>    \"dropout_0\": 0.4955384785694404,<br>    \"lr\": 0.026881147943270508<br>  }<br>}",
                    "{<br>  \"number\": 6,<br>  \"values\": [<br>    48434.0,<br>    0.63828125<br>  ],<br>  \"params\": {<br>    \"n_layers\": 1,<br>    \"n_units_l0\": 61,<br>    \"dropout_0\": 0.28866395910823184,<br>    \"lr\": 3.50758924558159e-05<br>  }<br>}",
                    "{<br>  \"number\": 7,<br>  \"values\": [<br>    11360.0,<br>    0.484375<br>  ],<br>  \"params\": {<br>    \"n_layers\": 2,<br>    \"n_units_l0\": 14,<br>    \"dropout_0\": 0.32223761804275763,<br>    \"n_units_l1\": 16,<br>    \"dropout_1\": 0.3106780569500918,<br>    \"lr\": 0.04313835247486508<br>  }<br>}",
                    "{<br>  \"number\": 8,<br>  \"values\": [<br>    75756.0,<br>    0.7859375<br>  ],<br>  \"params\": {<br>    \"n_layers\": 3,<br>    \"n_units_l0\": 74,<br>    \"dropout_0\": 0.30556030063375245,<br>    \"n_units_l1\": 100,<br>    \"dropout_1\": 0.2941326986971019,<br>    \"n_units_l2\": 94,<br>    \"dropout_2\": 0.2816500809714572,<br>    \"lr\": 0.01418889743031779<br>  }<br>}",
                    "{<br>  \"number\": 9,<br>  \"values\": [<br>    67275.0,<br>    0.3359375<br>  ],<br>  \"params\": {<br>    \"n_layers\": 2,<br>    \"n_units_l0\": 73,<br>    \"dropout_0\": 0.3412481467534194,<br>    \"n_units_l1\": 121,<br>    \"dropout_1\": 0.3903242708706543,<br>    \"lr\": 0.051345039420014844<br>  }<br>}",
                    "{<br>  \"number\": 10,<br>  \"values\": [<br>    83370.0,<br>    0.41015625<br>  ],<br>  \"params\": {<br>    \"n_layers\": 1,<br>    \"n_units_l0\": 105,<br>    \"dropout_0\": 0.45082169588993726,<br>    \"lr\": 0.09156327252998162<br>  }<br>}",
                    "{<br>  \"number\": 11,<br>  \"values\": [<br>    73842.0,<br>    0.51015625<br>  ],<br>  \"params\": {<br>    \"n_layers\": 1,<br>    \"n_units_l0\": 93,<br>    \"dropout_0\": 0.25643869606998626,<br>    \"lr\": 1.3032713015306746e-05<br>  }<br>}",
                    "{<br>  \"number\": 12,<br>  \"values\": [<br>    12440.0,<br>    0.37265625<br>  ],<br>  \"params\": {<br>    \"n_layers\": 2,<br>    \"n_units_l0\": 14,<br>    \"dropout_0\": 0.39610311844276336,<br>    \"n_units_l1\": 61,<br>    \"dropout_1\": 0.26624311910175,<br>    \"lr\": 3.503594320342987e-05<br>  }<br>}",
                    "{<br>  \"number\": 13,<br>  \"values\": [<br>    62726.0,<br>    0.6984375<br>  ],<br>  \"params\": {<br>    \"n_layers\": 1,<br>    \"n_units_l0\": 79,<br>    \"dropout_0\": 0.42659733771667063,<br>    \"lr\": 0.00014962845310974803<br>  }<br>}",
                    "{<br>  \"number\": 16,<br>  \"values\": [<br>    53198.0,<br>    0.74609375<br>  ],<br>  \"params\": {<br>    \"n_layers\": 1,<br>    \"n_units_l0\": 67,<br>    \"dropout_0\": 0.46014121415206277,<br>    \"lr\": 0.00033291923386672345<br>  }<br>}",
                    "{<br>  \"number\": 17,<br>  \"values\": [<br>    74654.0,<br>    0.1640625<br>  ],<br>  \"params\": {<br>    \"n_layers\": 3,<br>    \"n_units_l0\": 83,<br>    \"dropout_0\": 0.40633837470597767,<br>    \"n_units_l1\": 66,<br>    \"dropout_1\": 0.44792621953116063,<br>    \"n_units_l2\": 54,<br>    \"dropout_2\": 0.39061299145142503,<br>    \"lr\": 0.09328901117762244<br>  }<br>}",
                    "{<br>  \"number\": 18,<br>  \"values\": [<br>    101632.0,<br>    0.82109375<br>  ],<br>  \"params\": {<br>    \"n_layers\": 1,<br>    \"n_units_l0\": 128,<br>    \"dropout_0\": 0.43951055864892735,<br>    \"lr\": 0.009244159094178741<br>  }<br>}",
                    "{<br>  \"number\": 19,<br>  \"values\": [<br>    27646.0,<br>    0.09296875<br>  ],<br>  \"params\": {<br>    \"n_layers\": 3,<br>    \"n_units_l0\": 25,<br>    \"dropout_0\": 0.3389272344332027,<br>    \"n_units_l1\": 58,<br>    \"dropout_1\": 0.26351784753682556,<br>    \"n_units_l2\": 97,<br>    \"dropout_2\": 0.32112296507513166,<br>    \"lr\": 1.7734617193857714e-05<br>  }<br>}",
                    "{<br>  \"number\": 20,<br>  \"values\": [<br>    6656.0,<br>    0.2984375<br>  ],<br>  \"params\": {<br>    \"n_layers\": 2,<br>    \"n_units_l0\": 6,<br>    \"dropout_0\": 0.46712816544448255,<br>    \"n_units_l1\": 122,<br>    \"dropout_1\": 0.32925017440853604,<br>    \"lr\": 3.210818255417871e-05<br>  }<br>}",
                    "{<br>  \"number\": 21,<br>  \"values\": [<br>    49070.0,<br>    0.7234375<br>  ],<br>  \"params\": {<br>    \"n_layers\": 2,<br>    \"n_units_l0\": 60,<br>    \"dropout_0\": 0.48920721577306603,<br>    \"n_units_l1\": 29,<br>    \"dropout_1\": 0.20807442865122266,<br>    \"lr\": 0.0005072169568139172<br>  }<br>}",
                    "{<br>  \"number\": 22,<br>  \"values\": [<br>    51508.0,<br>    0.71171875<br>  ],<br>  \"params\": {<br>    \"n_layers\": 3,<br>    \"n_units_l0\": 48,<br>    \"dropout_0\": 0.3332339395656675,<br>    \"n_units_l1\": 87,<br>    \"dropout_1\": 0.3056981783209579,<br>    \"n_units_l2\": 100,<br>    \"dropout_2\": 0.42290038142570646,<br>    \"lr\": 0.00035698258996532105<br>  }<br>}",
                    "{<br>  \"number\": 24,<br>  \"values\": [<br>    68432.0,<br>    0.59609375<br>  ],<br>  \"params\": {<br>    \"n_layers\": 2,<br>    \"n_units_l0\": 74,<br>    \"dropout_0\": 0.22015697810220386,<br>    \"n_units_l1\": 124,<br>    \"dropout_1\": 0.25744226621032906,<br>    \"lr\": 3.644291717214559e-05<br>  }<br>}",
                    "{<br>  \"number\": 25,<br>  \"values\": [<br>    9910.0,<br>    0.20625<br>  ],<br>  \"params\": {<br>    \"n_layers\": 3,<br>    \"n_units_l0\": 9,<br>    \"dropout_0\": 0.4333405750760664,<br>    \"n_units_l1\": 118,<br>    \"dropout_1\": 0.4517157916400996,<br>    \"n_units_l2\": 14,<br>    \"dropout_2\": 0.24694169274417013,<br>    \"lr\": 9.559348460556334e-05<br>  }<br>}",
                    "{<br>  \"number\": 28,<br>  \"values\": [<br>    101632.0,<br>    0.79765625<br>  ],<br>  \"params\": {<br>    \"n_layers\": 1,<br>    \"n_units_l0\": 128,<br>    \"dropout_0\": 0.31290700579133723,<br>    \"lr\": 0.0192871604952055<br>  }<br>}",
                    "{<br>  \"number\": 29,<br>  \"values\": [<br>    92794.0,<br>    0.48359375<br>  ],<br>  \"params\": {<br>    \"n_layers\": 3,<br>    \"n_units_l0\": 105,<br>    \"dropout_0\": 0.4178328925800795,<br>    \"n_units_l1\": 76,<br>    \"dropout_1\": 0.22553788453857576,<br>    \"n_units_l2\": 29,<br>    \"dropout_2\": 0.44826108911796286,<br>    \"lr\": 6.589362647379289e-05<br>  }<br>}"
                  ],
                  "type": "scatter",
                  "x": [
                    110802,
                    95280,
                    19056,
                    44257,
                    44708,
                    32554,
                    48434,
                    11360,
                    75756,
                    67275,
                    83370,
                    73842,
                    12440,
                    62726,
                    53198,
                    74654,
                    101632,
                    27646,
                    6656,
                    49070,
                    51508,
                    68432,
                    9910,
                    101632,
                    92794
                  ],
                  "y": [
                    0.83203125,
                    0.79453125,
                    0.65625,
                    0.8,
                    0.72578125,
                    0.7375,
                    0.63828125,
                    0.484375,
                    0.7859375,
                    0.3359375,
                    0.41015625,
                    0.51015625,
                    0.37265625,
                    0.6984375,
                    0.74609375,
                    0.1640625,
                    0.82109375,
                    0.09296875,
                    0.2984375,
                    0.7234375,
                    0.71171875,
                    0.59609375,
                    0.20625,
                    0.79765625,
                    0.48359375
                  ]
                },
                {
                  "hovertemplate": "%{text}<extra>Best Trial</extra>",
                  "marker": {
                    "color": [
                      14,
                      15,
                      23,
                      26,
                      27
                    ],
                    "colorbar": {
                      "title": {
                        "text": "Best Trial"
                      },
                      "x": 1.1,
                      "xpad": 40
                    },
                    "colorscale": [
                      [
                        0,
                        "rgb(255,245,240)"
                      ],
                      [
                        0.125,
                        "rgb(254,224,210)"
                      ],
                      [
                        0.25,
                        "rgb(252,187,161)"
                      ],
                      [
                        0.375,
                        "rgb(252,146,114)"
                      ],
                      [
                        0.5,
                        "rgb(251,106,74)"
                      ],
                      [
                        0.625,
                        "rgb(239,59,44)"
                      ],
                      [
                        0.75,
                        "rgb(203,24,29)"
                      ],
                      [
                        0.875,
                        "rgb(165,15,21)"
                      ],
                      [
                        1,
                        "rgb(103,0,13)"
                      ]
                    ],
                    "line": {
                      "color": "Grey",
                      "width": 0.5
                    }
                  },
                  "mode": "markers",
                  "showlegend": false,
                  "text": [
                    "{<br>  \"number\": 14,<br>  \"values\": [<br>    29470.0,<br>    0.7390625<br>  ],<br>  \"params\": {<br>    \"n_layers\": 2,<br>    \"n_units_l0\": 31,<br>    \"dropout_0\": 0.3877188641278788,<br>    \"n_units_l1\": 126,<br>    \"dropout_1\": 0.44851846149112945,<br>    \"lr\": 0.0006187879333115122<br>  }<br>}",
                    "{<br>  \"number\": 15,<br>  \"values\": [<br>    42082.0,<br>    0.8234375<br>  ],<br>  \"params\": {<br>    \"n_layers\": 1,<br>    \"n_units_l0\": 53,<br>    \"dropout_0\": 0.4652159774647019,<br>    \"lr\": 0.0030450270530323646<br>  }<br>}",
                    "{<br>  \"number\": 23,<br>  \"values\": [<br>    37358.0,<br>    0.80859375<br>  ],<br>  \"params\": {<br>    \"n_layers\": 2,<br>    \"n_units_l0\": 44,<br>    \"dropout_0\": 0.32893226741224013,<br>    \"n_units_l1\": 53,<br>    \"dropout_1\": 0.22701292825149486,<br>    \"lr\": 0.002689941063623678<br>  }<br>}",
                    "{<br>  \"number\": 26,<br>  \"values\": [<br>    5558.0,<br>    0.73046875<br>  ],<br>  \"params\": {<br>    \"n_layers\": 1,<br>    \"n_units_l0\": 7,<br>    \"dropout_0\": 0.23028178095992374,<br>    \"lr\": 0.004090573644401883<br>  }<br>}",
                    "{<br>  \"number\": 27,<br>  \"values\": [<br>    96074.0,<br>    0.834375<br>  ],<br>  \"params\": {<br>    \"n_layers\": 1,<br>    \"n_units_l0\": 121,<br>    \"dropout_0\": 0.20857098898276283,<br>    \"lr\": 0.00411923199020278<br>  }<br>}"
                  ],
                  "type": "scatter",
                  "x": [
                    29470,
                    42082,
                    37358,
                    5558,
                    96074
                  ],
                  "y": [
                    0.7390625,
                    0.8234375,
                    0.80859375,
                    0.73046875,
                    0.834375
                  ]
                }
              ],
              "layout": {
                "template": {
                  "data": {
                    "bar": [
                      {
                        "error_x": {
                          "color": "#2a3f5f"
                        },
                        "error_y": {
                          "color": "#2a3f5f"
                        },
                        "marker": {
                          "line": {
                            "color": "#E5ECF6",
                            "width": 0.5
                          },
                          "pattern": {
                            "fillmode": "overlay",
                            "size": 10,
                            "solidity": 0.2
                          }
                        },
                        "type": "bar"
                      }
                    ],
                    "barpolar": [
                      {
                        "marker": {
                          "line": {
                            "color": "#E5ECF6",
                            "width": 0.5
                          },
                          "pattern": {
                            "fillmode": "overlay",
                            "size": 10,
                            "solidity": 0.2
                          }
                        },
                        "type": "barpolar"
                      }
                    ],
                    "carpet": [
                      {
                        "aaxis": {
                          "endlinecolor": "#2a3f5f",
                          "gridcolor": "white",
                          "linecolor": "white",
                          "minorgridcolor": "white",
                          "startlinecolor": "#2a3f5f"
                        },
                        "baxis": {
                          "endlinecolor": "#2a3f5f",
                          "gridcolor": "white",
                          "linecolor": "white",
                          "minorgridcolor": "white",
                          "startlinecolor": "#2a3f5f"
                        },
                        "type": "carpet"
                      }
                    ],
                    "choropleth": [
                      {
                        "colorbar": {
                          "outlinewidth": 0,
                          "ticks": ""
                        },
                        "type": "choropleth"
                      }
                    ],
                    "contour": [
                      {
                        "colorbar": {
                          "outlinewidth": 0,
                          "ticks": ""
                        },
                        "colorscale": [
                          [
                            0,
                            "#0d0887"
                          ],
                          [
                            0.1111111111111111,
                            "#46039f"
                          ],
                          [
                            0.2222222222222222,
                            "#7201a8"
                          ],
                          [
                            0.3333333333333333,
                            "#9c179e"
                          ],
                          [
                            0.4444444444444444,
                            "#bd3786"
                          ],
                          [
                            0.5555555555555556,
                            "#d8576b"
                          ],
                          [
                            0.6666666666666666,
                            "#ed7953"
                          ],
                          [
                            0.7777777777777778,
                            "#fb9f3a"
                          ],
                          [
                            0.8888888888888888,
                            "#fdca26"
                          ],
                          [
                            1,
                            "#f0f921"
                          ]
                        ],
                        "type": "contour"
                      }
                    ],
                    "contourcarpet": [
                      {
                        "colorbar": {
                          "outlinewidth": 0,
                          "ticks": ""
                        },
                        "type": "contourcarpet"
                      }
                    ],
                    "heatmap": [
                      {
                        "colorbar": {
                          "outlinewidth": 0,
                          "ticks": ""
                        },
                        "colorscale": [
                          [
                            0,
                            "#0d0887"
                          ],
                          [
                            0.1111111111111111,
                            "#46039f"
                          ],
                          [
                            0.2222222222222222,
                            "#7201a8"
                          ],
                          [
                            0.3333333333333333,
                            "#9c179e"
                          ],
                          [
                            0.4444444444444444,
                            "#bd3786"
                          ],
                          [
                            0.5555555555555556,
                            "#d8576b"
                          ],
                          [
                            0.6666666666666666,
                            "#ed7953"
                          ],
                          [
                            0.7777777777777778,
                            "#fb9f3a"
                          ],
                          [
                            0.8888888888888888,
                            "#fdca26"
                          ],
                          [
                            1,
                            "#f0f921"
                          ]
                        ],
                        "type": "heatmap"
                      }
                    ],
                    "heatmapgl": [
                      {
                        "colorbar": {
                          "outlinewidth": 0,
                          "ticks": ""
                        },
                        "colorscale": [
                          [
                            0,
                            "#0d0887"
                          ],
                          [
                            0.1111111111111111,
                            "#46039f"
                          ],
                          [
                            0.2222222222222222,
                            "#7201a8"
                          ],
                          [
                            0.3333333333333333,
                            "#9c179e"
                          ],
                          [
                            0.4444444444444444,
                            "#bd3786"
                          ],
                          [
                            0.5555555555555556,
                            "#d8576b"
                          ],
                          [
                            0.6666666666666666,
                            "#ed7953"
                          ],
                          [
                            0.7777777777777778,
                            "#fb9f3a"
                          ],
                          [
                            0.8888888888888888,
                            "#fdca26"
                          ],
                          [
                            1,
                            "#f0f921"
                          ]
                        ],
                        "type": "heatmapgl"
                      }
                    ],
                    "histogram": [
                      {
                        "marker": {
                          "pattern": {
                            "fillmode": "overlay",
                            "size": 10,
                            "solidity": 0.2
                          }
                        },
                        "type": "histogram"
                      }
                    ],
                    "histogram2d": [
                      {
                        "colorbar": {
                          "outlinewidth": 0,
                          "ticks": ""
                        },
                        "colorscale": [
                          [
                            0,
                            "#0d0887"
                          ],
                          [
                            0.1111111111111111,
                            "#46039f"
                          ],
                          [
                            0.2222222222222222,
                            "#7201a8"
                          ],
                          [
                            0.3333333333333333,
                            "#9c179e"
                          ],
                          [
                            0.4444444444444444,
                            "#bd3786"
                          ],
                          [
                            0.5555555555555556,
                            "#d8576b"
                          ],
                          [
                            0.6666666666666666,
                            "#ed7953"
                          ],
                          [
                            0.7777777777777778,
                            "#fb9f3a"
                          ],
                          [
                            0.8888888888888888,
                            "#fdca26"
                          ],
                          [
                            1,
                            "#f0f921"
                          ]
                        ],
                        "type": "histogram2d"
                      }
                    ],
                    "histogram2dcontour": [
                      {
                        "colorbar": {
                          "outlinewidth": 0,
                          "ticks": ""
                        },
                        "colorscale": [
                          [
                            0,
                            "#0d0887"
                          ],
                          [
                            0.1111111111111111,
                            "#46039f"
                          ],
                          [
                            0.2222222222222222,
                            "#7201a8"
                          ],
                          [
                            0.3333333333333333,
                            "#9c179e"
                          ],
                          [
                            0.4444444444444444,
                            "#bd3786"
                          ],
                          [
                            0.5555555555555556,
                            "#d8576b"
                          ],
                          [
                            0.6666666666666666,
                            "#ed7953"
                          ],
                          [
                            0.7777777777777778,
                            "#fb9f3a"
                          ],
                          [
                            0.8888888888888888,
                            "#fdca26"
                          ],
                          [
                            1,
                            "#f0f921"
                          ]
                        ],
                        "type": "histogram2dcontour"
                      }
                    ],
                    "mesh3d": [
                      {
                        "colorbar": {
                          "outlinewidth": 0,
                          "ticks": ""
                        },
                        "type": "mesh3d"
                      }
                    ],
                    "parcoords": [
                      {
                        "line": {
                          "colorbar": {
                            "outlinewidth": 0,
                            "ticks": ""
                          }
                        },
                        "type": "parcoords"
                      }
                    ],
                    "pie": [
                      {
                        "automargin": true,
                        "type": "pie"
                      }
                    ],
                    "scatter": [
                      {
                        "fillpattern": {
                          "fillmode": "overlay",
                          "size": 10,
                          "solidity": 0.2
                        },
                        "type": "scatter"
                      }
                    ],
                    "scatter3d": [
                      {
                        "line": {
                          "colorbar": {
                            "outlinewidth": 0,
                            "ticks": ""
                          }
                        },
                        "marker": {
                          "colorbar": {
                            "outlinewidth": 0,
                            "ticks": ""
                          }
                        },
                        "type": "scatter3d"
                      }
                    ],
                    "scattercarpet": [
                      {
                        "marker": {
                          "colorbar": {
                            "outlinewidth": 0,
                            "ticks": ""
                          }
                        },
                        "type": "scattercarpet"
                      }
                    ],
                    "scattergeo": [
                      {
                        "marker": {
                          "colorbar": {
                            "outlinewidth": 0,
                            "ticks": ""
                          }
                        },
                        "type": "scattergeo"
                      }
                    ],
                    "scattergl": [
                      {
                        "marker": {
                          "colorbar": {
                            "outlinewidth": 0,
                            "ticks": ""
                          }
                        },
                        "type": "scattergl"
                      }
                    ],
                    "scattermapbox": [
                      {
                        "marker": {
                          "colorbar": {
                            "outlinewidth": 0,
                            "ticks": ""
                          }
                        },
                        "type": "scattermapbox"
                      }
                    ],
                    "scatterpolar": [
                      {
                        "marker": {
                          "colorbar": {
                            "outlinewidth": 0,
                            "ticks": ""
                          }
                        },
                        "type": "scatterpolar"
                      }
                    ],
                    "scatterpolargl": [
                      {
                        "marker": {
                          "colorbar": {
                            "outlinewidth": 0,
                            "ticks": ""
                          }
                        },
                        "type": "scatterpolargl"
                      }
                    ],
                    "scatterternary": [
                      {
                        "marker": {
                          "colorbar": {
                            "outlinewidth": 0,
                            "ticks": ""
                          }
                        },
                        "type": "scatterternary"
                      }
                    ],
                    "surface": [
                      {
                        "colorbar": {
                          "outlinewidth": 0,
                          "ticks": ""
                        },
                        "colorscale": [
                          [
                            0,
                            "#0d0887"
                          ],
                          [
                            0.1111111111111111,
                            "#46039f"
                          ],
                          [
                            0.2222222222222222,
                            "#7201a8"
                          ],
                          [
                            0.3333333333333333,
                            "#9c179e"
                          ],
                          [
                            0.4444444444444444,
                            "#bd3786"
                          ],
                          [
                            0.5555555555555556,
                            "#d8576b"
                          ],
                          [
                            0.6666666666666666,
                            "#ed7953"
                          ],
                          [
                            0.7777777777777778,
                            "#fb9f3a"
                          ],
                          [
                            0.8888888888888888,
                            "#fdca26"
                          ],
                          [
                            1,
                            "#f0f921"
                          ]
                        ],
                        "type": "surface"
                      }
                    ],
                    "table": [
                      {
                        "cells": {
                          "fill": {
                            "color": "#EBF0F8"
                          },
                          "line": {
                            "color": "white"
                          }
                        },
                        "header": {
                          "fill": {
                            "color": "#C8D4E3"
                          },
                          "line": {
                            "color": "white"
                          }
                        },
                        "type": "table"
                      }
                    ]
                  },
                  "layout": {
                    "annotationdefaults": {
                      "arrowcolor": "#2a3f5f",
                      "arrowhead": 0,
                      "arrowwidth": 1
                    },
                    "autotypenumbers": "strict",
                    "coloraxis": {
                      "colorbar": {
                        "outlinewidth": 0,
                        "ticks": ""
                      }
                    },
                    "colorscale": {
                      "diverging": [
                        [
                          0,
                          "#8e0152"
                        ],
                        [
                          0.1,
                          "#c51b7d"
                        ],
                        [
                          0.2,
                          "#de77ae"
                        ],
                        [
                          0.3,
                          "#f1b6da"
                        ],
                        [
                          0.4,
                          "#fde0ef"
                        ],
                        [
                          0.5,
                          "#f7f7f7"
                        ],
                        [
                          0.6,
                          "#e6f5d0"
                        ],
                        [
                          0.7,
                          "#b8e186"
                        ],
                        [
                          0.8,
                          "#7fbc41"
                        ],
                        [
                          0.9,
                          "#4d9221"
                        ],
                        [
                          1,
                          "#276419"
                        ]
                      ],
                      "sequential": [
                        [
                          0,
                          "#0d0887"
                        ],
                        [
                          0.1111111111111111,
                          "#46039f"
                        ],
                        [
                          0.2222222222222222,
                          "#7201a8"
                        ],
                        [
                          0.3333333333333333,
                          "#9c179e"
                        ],
                        [
                          0.4444444444444444,
                          "#bd3786"
                        ],
                        [
                          0.5555555555555556,
                          "#d8576b"
                        ],
                        [
                          0.6666666666666666,
                          "#ed7953"
                        ],
                        [
                          0.7777777777777778,
                          "#fb9f3a"
                        ],
                        [
                          0.8888888888888888,
                          "#fdca26"
                        ],
                        [
                          1,
                          "#f0f921"
                        ]
                      ],
                      "sequentialminus": [
                        [
                          0,
                          "#0d0887"
                        ],
                        [
                          0.1111111111111111,
                          "#46039f"
                        ],
                        [
                          0.2222222222222222,
                          "#7201a8"
                        ],
                        [
                          0.3333333333333333,
                          "#9c179e"
                        ],
                        [
                          0.4444444444444444,
                          "#bd3786"
                        ],
                        [
                          0.5555555555555556,
                          "#d8576b"
                        ],
                        [
                          0.6666666666666666,
                          "#ed7953"
                        ],
                        [
                          0.7777777777777778,
                          "#fb9f3a"
                        ],
                        [
                          0.8888888888888888,
                          "#fdca26"
                        ],
                        [
                          1,
                          "#f0f921"
                        ]
                      ]
                    },
                    "colorway": [
                      "#636efa",
                      "#EF553B",
                      "#00cc96",
                      "#ab63fa",
                      "#FFA15A",
                      "#19d3f3",
                      "#FF6692",
                      "#B6E880",
                      "#FF97FF",
                      "#FECB52"
                    ],
                    "font": {
                      "color": "#2a3f5f"
                    },
                    "geo": {
                      "bgcolor": "white",
                      "lakecolor": "white",
                      "landcolor": "#E5ECF6",
                      "showlakes": true,
                      "showland": true,
                      "subunitcolor": "white"
                    },
                    "hoverlabel": {
                      "align": "left"
                    },
                    "hovermode": "closest",
                    "mapbox": {
                      "style": "light"
                    },
                    "paper_bgcolor": "white",
                    "plot_bgcolor": "#E5ECF6",
                    "polar": {
                      "angularaxis": {
                        "gridcolor": "white",
                        "linecolor": "white",
                        "ticks": ""
                      },
                      "bgcolor": "#E5ECF6",
                      "radialaxis": {
                        "gridcolor": "white",
                        "linecolor": "white",
                        "ticks": ""
                      }
                    },
                    "scene": {
                      "xaxis": {
                        "backgroundcolor": "#E5ECF6",
                        "gridcolor": "white",
                        "gridwidth": 2,
                        "linecolor": "white",
                        "showbackground": true,
                        "ticks": "",
                        "zerolinecolor": "white"
                      },
                      "yaxis": {
                        "backgroundcolor": "#E5ECF6",
                        "gridcolor": "white",
                        "gridwidth": 2,
                        "linecolor": "white",
                        "showbackground": true,
                        "ticks": "",
                        "zerolinecolor": "white"
                      },
                      "zaxis": {
                        "backgroundcolor": "#E5ECF6",
                        "gridcolor": "white",
                        "gridwidth": 2,
                        "linecolor": "white",
                        "showbackground": true,
                        "ticks": "",
                        "zerolinecolor": "white"
                      }
                    },
                    "shapedefaults": {
                      "line": {
                        "color": "#2a3f5f"
                      }
                    },
                    "ternary": {
                      "aaxis": {
                        "gridcolor": "white",
                        "linecolor": "white",
                        "ticks": ""
                      },
                      "baxis": {
                        "gridcolor": "white",
                        "linecolor": "white",
                        "ticks": ""
                      },
                      "bgcolor": "#E5ECF6",
                      "caxis": {
                        "gridcolor": "white",
                        "linecolor": "white",
                        "ticks": ""
                      }
                    },
                    "title": {
                      "x": 0.05
                    },
                    "xaxis": {
                      "automargin": true,
                      "gridcolor": "white",
                      "linecolor": "white",
                      "ticks": "",
                      "title": {
                        "standoff": 15
                      },
                      "zerolinecolor": "white",
                      "zerolinewidth": 2
                    },
                    "yaxis": {
                      "automargin": true,
                      "gridcolor": "white",
                      "linecolor": "white",
                      "ticks": "",
                      "title": {
                        "standoff": 15
                      },
                      "zerolinecolor": "white",
                      "zerolinewidth": 2
                    }
                  }
                },
                "title": {
                  "text": "Pareto-front Plot"
                },
                "xaxis": {
                  "title": {
                    "text": "FLOPS"
                  }
                },
                "yaxis": {
                  "title": {
                    "text": "accuracy"
                  }
                }
              }
            }
          },
          "metadata": {},
          "output_type": "display_data"
        }
      ],
      "source": [
        "optuna.visualization.plot_pareto_front(study, target_names=[\"FLOPS\", \"accuracy\"])"
      ]
    },
    {
      "cell_type": "markdown",
      "metadata": {},
      "source": [
        "Fetch the list of trials on the Pareto front with :attr:`~optuna.study.Study.best_trials`.\n",
        "\n",
        "For example, the following code shows the number of trials on the Pareto front and picks the trial with the highest accuracy.\n",
        "\n"
      ]
    },
    {
      "cell_type": "code",
      "execution_count": 5,
      "metadata": {
        "collapsed": false
      },
      "outputs": [
        {
          "name": "stdout",
          "output_type": "stream",
          "text": [
            "Number of trials on the Pareto front: 5\n",
            "Trial with highest accuracy: \n",
            "\tnumber: 27\n",
            "\tparams: {'n_layers': 1, 'n_units_l0': 121, 'dropout_0': 0.20857098898276283, 'lr': 0.00411923199020278}\n",
            "\tvalues: [96074.0, 0.834375]\n"
          ]
        }
      ],
      "source": [
        "print(f\"Number of trials on the Pareto front: {len(study.best_trials)}\")\n",
        "\n",
        "trial_with_highest_accuracy = max(study.best_trials, key=lambda t: t.values[1])\n",
        "print(f\"Trial with highest accuracy: \")\n",
        "print(f\"\\tnumber: {trial_with_highest_accuracy.number}\")\n",
        "print(f\"\\tparams: {trial_with_highest_accuracy.params}\")\n",
        "print(f\"\\tvalues: {trial_with_highest_accuracy.values}\")"
      ]
    },
    {
      "cell_type": "markdown",
      "metadata": {},
      "source": [
        "Learn which hyperparameters are affecting the flops most with hyperparameter importance.\n",
        "\n"
      ]
    },
    {
      "cell_type": "code",
      "execution_count": 6,
      "metadata": {
        "collapsed": false
      },
      "outputs": [
        {
          "data": {
            "application/vnd.plotly.v1+json": {
              "config": {
                "plotlyServerURL": "https://plot.ly"
              },
              "data": [
                {
                  "cliponaxis": false,
                  "hovertemplate": [
                    "n_layers (IntDistribution): 0.0005520138686613988<extra></extra>",
                    "lr (FloatDistribution): 0.0015595698697890973<extra></extra>",
                    "dropout_0 (FloatDistribution): 0.0024045881638579286<extra></extra>",
                    "n_units_l0 (IntDistribution): 0.9954838280976915<extra></extra>"
                  ],
                  "name": "flops",
                  "orientation": "h",
                  "text": [
                    "<0.01",
                    "<0.01",
                    "<0.01",
                    "1.00"
                  ],
                  "textposition": "outside",
                  "type": "bar",
                  "x": [
                    0.0005520138686613988,
                    0.0015595698697890973,
                    0.0024045881638579286,
                    0.9954838280976915
                  ],
                  "y": [
                    "n_layers",
                    "lr",
                    "dropout_0",
                    "n_units_l0"
                  ]
                }
              ],
              "layout": {
                "template": {
                  "data": {
                    "bar": [
                      {
                        "error_x": {
                          "color": "#2a3f5f"
                        },
                        "error_y": {
                          "color": "#2a3f5f"
                        },
                        "marker": {
                          "line": {
                            "color": "#E5ECF6",
                            "width": 0.5
                          },
                          "pattern": {
                            "fillmode": "overlay",
                            "size": 10,
                            "solidity": 0.2
                          }
                        },
                        "type": "bar"
                      }
                    ],
                    "barpolar": [
                      {
                        "marker": {
                          "line": {
                            "color": "#E5ECF6",
                            "width": 0.5
                          },
                          "pattern": {
                            "fillmode": "overlay",
                            "size": 10,
                            "solidity": 0.2
                          }
                        },
                        "type": "barpolar"
                      }
                    ],
                    "carpet": [
                      {
                        "aaxis": {
                          "endlinecolor": "#2a3f5f",
                          "gridcolor": "white",
                          "linecolor": "white",
                          "minorgridcolor": "white",
                          "startlinecolor": "#2a3f5f"
                        },
                        "baxis": {
                          "endlinecolor": "#2a3f5f",
                          "gridcolor": "white",
                          "linecolor": "white",
                          "minorgridcolor": "white",
                          "startlinecolor": "#2a3f5f"
                        },
                        "type": "carpet"
                      }
                    ],
                    "choropleth": [
                      {
                        "colorbar": {
                          "outlinewidth": 0,
                          "ticks": ""
                        },
                        "type": "choropleth"
                      }
                    ],
                    "contour": [
                      {
                        "colorbar": {
                          "outlinewidth": 0,
                          "ticks": ""
                        },
                        "colorscale": [
                          [
                            0,
                            "#0d0887"
                          ],
                          [
                            0.1111111111111111,
                            "#46039f"
                          ],
                          [
                            0.2222222222222222,
                            "#7201a8"
                          ],
                          [
                            0.3333333333333333,
                            "#9c179e"
                          ],
                          [
                            0.4444444444444444,
                            "#bd3786"
                          ],
                          [
                            0.5555555555555556,
                            "#d8576b"
                          ],
                          [
                            0.6666666666666666,
                            "#ed7953"
                          ],
                          [
                            0.7777777777777778,
                            "#fb9f3a"
                          ],
                          [
                            0.8888888888888888,
                            "#fdca26"
                          ],
                          [
                            1,
                            "#f0f921"
                          ]
                        ],
                        "type": "contour"
                      }
                    ],
                    "contourcarpet": [
                      {
                        "colorbar": {
                          "outlinewidth": 0,
                          "ticks": ""
                        },
                        "type": "contourcarpet"
                      }
                    ],
                    "heatmap": [
                      {
                        "colorbar": {
                          "outlinewidth": 0,
                          "ticks": ""
                        },
                        "colorscale": [
                          [
                            0,
                            "#0d0887"
                          ],
                          [
                            0.1111111111111111,
                            "#46039f"
                          ],
                          [
                            0.2222222222222222,
                            "#7201a8"
                          ],
                          [
                            0.3333333333333333,
                            "#9c179e"
                          ],
                          [
                            0.4444444444444444,
                            "#bd3786"
                          ],
                          [
                            0.5555555555555556,
                            "#d8576b"
                          ],
                          [
                            0.6666666666666666,
                            "#ed7953"
                          ],
                          [
                            0.7777777777777778,
                            "#fb9f3a"
                          ],
                          [
                            0.8888888888888888,
                            "#fdca26"
                          ],
                          [
                            1,
                            "#f0f921"
                          ]
                        ],
                        "type": "heatmap"
                      }
                    ],
                    "heatmapgl": [
                      {
                        "colorbar": {
                          "outlinewidth": 0,
                          "ticks": ""
                        },
                        "colorscale": [
                          [
                            0,
                            "#0d0887"
                          ],
                          [
                            0.1111111111111111,
                            "#46039f"
                          ],
                          [
                            0.2222222222222222,
                            "#7201a8"
                          ],
                          [
                            0.3333333333333333,
                            "#9c179e"
                          ],
                          [
                            0.4444444444444444,
                            "#bd3786"
                          ],
                          [
                            0.5555555555555556,
                            "#d8576b"
                          ],
                          [
                            0.6666666666666666,
                            "#ed7953"
                          ],
                          [
                            0.7777777777777778,
                            "#fb9f3a"
                          ],
                          [
                            0.8888888888888888,
                            "#fdca26"
                          ],
                          [
                            1,
                            "#f0f921"
                          ]
                        ],
                        "type": "heatmapgl"
                      }
                    ],
                    "histogram": [
                      {
                        "marker": {
                          "pattern": {
                            "fillmode": "overlay",
                            "size": 10,
                            "solidity": 0.2
                          }
                        },
                        "type": "histogram"
                      }
                    ],
                    "histogram2d": [
                      {
                        "colorbar": {
                          "outlinewidth": 0,
                          "ticks": ""
                        },
                        "colorscale": [
                          [
                            0,
                            "#0d0887"
                          ],
                          [
                            0.1111111111111111,
                            "#46039f"
                          ],
                          [
                            0.2222222222222222,
                            "#7201a8"
                          ],
                          [
                            0.3333333333333333,
                            "#9c179e"
                          ],
                          [
                            0.4444444444444444,
                            "#bd3786"
                          ],
                          [
                            0.5555555555555556,
                            "#d8576b"
                          ],
                          [
                            0.6666666666666666,
                            "#ed7953"
                          ],
                          [
                            0.7777777777777778,
                            "#fb9f3a"
                          ],
                          [
                            0.8888888888888888,
                            "#fdca26"
                          ],
                          [
                            1,
                            "#f0f921"
                          ]
                        ],
                        "type": "histogram2d"
                      }
                    ],
                    "histogram2dcontour": [
                      {
                        "colorbar": {
                          "outlinewidth": 0,
                          "ticks": ""
                        },
                        "colorscale": [
                          [
                            0,
                            "#0d0887"
                          ],
                          [
                            0.1111111111111111,
                            "#46039f"
                          ],
                          [
                            0.2222222222222222,
                            "#7201a8"
                          ],
                          [
                            0.3333333333333333,
                            "#9c179e"
                          ],
                          [
                            0.4444444444444444,
                            "#bd3786"
                          ],
                          [
                            0.5555555555555556,
                            "#d8576b"
                          ],
                          [
                            0.6666666666666666,
                            "#ed7953"
                          ],
                          [
                            0.7777777777777778,
                            "#fb9f3a"
                          ],
                          [
                            0.8888888888888888,
                            "#fdca26"
                          ],
                          [
                            1,
                            "#f0f921"
                          ]
                        ],
                        "type": "histogram2dcontour"
                      }
                    ],
                    "mesh3d": [
                      {
                        "colorbar": {
                          "outlinewidth": 0,
                          "ticks": ""
                        },
                        "type": "mesh3d"
                      }
                    ],
                    "parcoords": [
                      {
                        "line": {
                          "colorbar": {
                            "outlinewidth": 0,
                            "ticks": ""
                          }
                        },
                        "type": "parcoords"
                      }
                    ],
                    "pie": [
                      {
                        "automargin": true,
                        "type": "pie"
                      }
                    ],
                    "scatter": [
                      {
                        "fillpattern": {
                          "fillmode": "overlay",
                          "size": 10,
                          "solidity": 0.2
                        },
                        "type": "scatter"
                      }
                    ],
                    "scatter3d": [
                      {
                        "line": {
                          "colorbar": {
                            "outlinewidth": 0,
                            "ticks": ""
                          }
                        },
                        "marker": {
                          "colorbar": {
                            "outlinewidth": 0,
                            "ticks": ""
                          }
                        },
                        "type": "scatter3d"
                      }
                    ],
                    "scattercarpet": [
                      {
                        "marker": {
                          "colorbar": {
                            "outlinewidth": 0,
                            "ticks": ""
                          }
                        },
                        "type": "scattercarpet"
                      }
                    ],
                    "scattergeo": [
                      {
                        "marker": {
                          "colorbar": {
                            "outlinewidth": 0,
                            "ticks": ""
                          }
                        },
                        "type": "scattergeo"
                      }
                    ],
                    "scattergl": [
                      {
                        "marker": {
                          "colorbar": {
                            "outlinewidth": 0,
                            "ticks": ""
                          }
                        },
                        "type": "scattergl"
                      }
                    ],
                    "scattermapbox": [
                      {
                        "marker": {
                          "colorbar": {
                            "outlinewidth": 0,
                            "ticks": ""
                          }
                        },
                        "type": "scattermapbox"
                      }
                    ],
                    "scatterpolar": [
                      {
                        "marker": {
                          "colorbar": {
                            "outlinewidth": 0,
                            "ticks": ""
                          }
                        },
                        "type": "scatterpolar"
                      }
                    ],
                    "scatterpolargl": [
                      {
                        "marker": {
                          "colorbar": {
                            "outlinewidth": 0,
                            "ticks": ""
                          }
                        },
                        "type": "scatterpolargl"
                      }
                    ],
                    "scatterternary": [
                      {
                        "marker": {
                          "colorbar": {
                            "outlinewidth": 0,
                            "ticks": ""
                          }
                        },
                        "type": "scatterternary"
                      }
                    ],
                    "surface": [
                      {
                        "colorbar": {
                          "outlinewidth": 0,
                          "ticks": ""
                        },
                        "colorscale": [
                          [
                            0,
                            "#0d0887"
                          ],
                          [
                            0.1111111111111111,
                            "#46039f"
                          ],
                          [
                            0.2222222222222222,
                            "#7201a8"
                          ],
                          [
                            0.3333333333333333,
                            "#9c179e"
                          ],
                          [
                            0.4444444444444444,
                            "#bd3786"
                          ],
                          [
                            0.5555555555555556,
                            "#d8576b"
                          ],
                          [
                            0.6666666666666666,
                            "#ed7953"
                          ],
                          [
                            0.7777777777777778,
                            "#fb9f3a"
                          ],
                          [
                            0.8888888888888888,
                            "#fdca26"
                          ],
                          [
                            1,
                            "#f0f921"
                          ]
                        ],
                        "type": "surface"
                      }
                    ],
                    "table": [
                      {
                        "cells": {
                          "fill": {
                            "color": "#EBF0F8"
                          },
                          "line": {
                            "color": "white"
                          }
                        },
                        "header": {
                          "fill": {
                            "color": "#C8D4E3"
                          },
                          "line": {
                            "color": "white"
                          }
                        },
                        "type": "table"
                      }
                    ]
                  },
                  "layout": {
                    "annotationdefaults": {
                      "arrowcolor": "#2a3f5f",
                      "arrowhead": 0,
                      "arrowwidth": 1
                    },
                    "autotypenumbers": "strict",
                    "coloraxis": {
                      "colorbar": {
                        "outlinewidth": 0,
                        "ticks": ""
                      }
                    },
                    "colorscale": {
                      "diverging": [
                        [
                          0,
                          "#8e0152"
                        ],
                        [
                          0.1,
                          "#c51b7d"
                        ],
                        [
                          0.2,
                          "#de77ae"
                        ],
                        [
                          0.3,
                          "#f1b6da"
                        ],
                        [
                          0.4,
                          "#fde0ef"
                        ],
                        [
                          0.5,
                          "#f7f7f7"
                        ],
                        [
                          0.6,
                          "#e6f5d0"
                        ],
                        [
                          0.7,
                          "#b8e186"
                        ],
                        [
                          0.8,
                          "#7fbc41"
                        ],
                        [
                          0.9,
                          "#4d9221"
                        ],
                        [
                          1,
                          "#276419"
                        ]
                      ],
                      "sequential": [
                        [
                          0,
                          "#0d0887"
                        ],
                        [
                          0.1111111111111111,
                          "#46039f"
                        ],
                        [
                          0.2222222222222222,
                          "#7201a8"
                        ],
                        [
                          0.3333333333333333,
                          "#9c179e"
                        ],
                        [
                          0.4444444444444444,
                          "#bd3786"
                        ],
                        [
                          0.5555555555555556,
                          "#d8576b"
                        ],
                        [
                          0.6666666666666666,
                          "#ed7953"
                        ],
                        [
                          0.7777777777777778,
                          "#fb9f3a"
                        ],
                        [
                          0.8888888888888888,
                          "#fdca26"
                        ],
                        [
                          1,
                          "#f0f921"
                        ]
                      ],
                      "sequentialminus": [
                        [
                          0,
                          "#0d0887"
                        ],
                        [
                          0.1111111111111111,
                          "#46039f"
                        ],
                        [
                          0.2222222222222222,
                          "#7201a8"
                        ],
                        [
                          0.3333333333333333,
                          "#9c179e"
                        ],
                        [
                          0.4444444444444444,
                          "#bd3786"
                        ],
                        [
                          0.5555555555555556,
                          "#d8576b"
                        ],
                        [
                          0.6666666666666666,
                          "#ed7953"
                        ],
                        [
                          0.7777777777777778,
                          "#fb9f3a"
                        ],
                        [
                          0.8888888888888888,
                          "#fdca26"
                        ],
                        [
                          1,
                          "#f0f921"
                        ]
                      ]
                    },
                    "colorway": [
                      "#636efa",
                      "#EF553B",
                      "#00cc96",
                      "#ab63fa",
                      "#FFA15A",
                      "#19d3f3",
                      "#FF6692",
                      "#B6E880",
                      "#FF97FF",
                      "#FECB52"
                    ],
                    "font": {
                      "color": "#2a3f5f"
                    },
                    "geo": {
                      "bgcolor": "white",
                      "lakecolor": "white",
                      "landcolor": "#E5ECF6",
                      "showlakes": true,
                      "showland": true,
                      "subunitcolor": "white"
                    },
                    "hoverlabel": {
                      "align": "left"
                    },
                    "hovermode": "closest",
                    "mapbox": {
                      "style": "light"
                    },
                    "paper_bgcolor": "white",
                    "plot_bgcolor": "#E5ECF6",
                    "polar": {
                      "angularaxis": {
                        "gridcolor": "white",
                        "linecolor": "white",
                        "ticks": ""
                      },
                      "bgcolor": "#E5ECF6",
                      "radialaxis": {
                        "gridcolor": "white",
                        "linecolor": "white",
                        "ticks": ""
                      }
                    },
                    "scene": {
                      "xaxis": {
                        "backgroundcolor": "#E5ECF6",
                        "gridcolor": "white",
                        "gridwidth": 2,
                        "linecolor": "white",
                        "showbackground": true,
                        "ticks": "",
                        "zerolinecolor": "white"
                      },
                      "yaxis": {
                        "backgroundcolor": "#E5ECF6",
                        "gridcolor": "white",
                        "gridwidth": 2,
                        "linecolor": "white",
                        "showbackground": true,
                        "ticks": "",
                        "zerolinecolor": "white"
                      },
                      "zaxis": {
                        "backgroundcolor": "#E5ECF6",
                        "gridcolor": "white",
                        "gridwidth": 2,
                        "linecolor": "white",
                        "showbackground": true,
                        "ticks": "",
                        "zerolinecolor": "white"
                      }
                    },
                    "shapedefaults": {
                      "line": {
                        "color": "#2a3f5f"
                      }
                    },
                    "ternary": {
                      "aaxis": {
                        "gridcolor": "white",
                        "linecolor": "white",
                        "ticks": ""
                      },
                      "baxis": {
                        "gridcolor": "white",
                        "linecolor": "white",
                        "ticks": ""
                      },
                      "bgcolor": "#E5ECF6",
                      "caxis": {
                        "gridcolor": "white",
                        "linecolor": "white",
                        "ticks": ""
                      }
                    },
                    "title": {
                      "x": 0.05
                    },
                    "xaxis": {
                      "automargin": true,
                      "gridcolor": "white",
                      "linecolor": "white",
                      "ticks": "",
                      "title": {
                        "standoff": 15
                      },
                      "zerolinecolor": "white",
                      "zerolinewidth": 2
                    },
                    "yaxis": {
                      "automargin": true,
                      "gridcolor": "white",
                      "linecolor": "white",
                      "ticks": "",
                      "title": {
                        "standoff": 15
                      },
                      "zerolinecolor": "white",
                      "zerolinewidth": 2
                    }
                  }
                },
                "title": {
                  "text": "Hyperparameter Importances"
                },
                "xaxis": {
                  "title": {
                    "text": "Hyperparameter Importance"
                  }
                },
                "yaxis": {
                  "title": {
                    "text": "Hyperparameter"
                  }
                }
              }
            }
          },
          "metadata": {},
          "output_type": "display_data"
        }
      ],
      "source": [
        "optuna.visualization.plot_param_importances(\n",
        "    study, target=lambda t: t.values[0], target_name=\"flops\"\n",
        ")"
      ]
    }
  ],
  "metadata": {
    "kernelspec": {
      "display_name": "Python 3",
      "language": "python",
      "name": "python3"
    },
    "language_info": {
      "codemirror_mode": {
        "name": "ipython",
        "version": 3
      },
      "file_extension": ".py",
      "mimetype": "text/x-python",
      "name": "python",
      "nbconvert_exporter": "python",
      "pygments_lexer": "ipython3",
      "version": "3.11.9"
    }
  },
  "nbformat": 4,
  "nbformat_minor": 0
}
